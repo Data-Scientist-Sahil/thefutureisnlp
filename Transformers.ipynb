{
 "cells": [
  {
   "cell_type": "code",
   "execution_count": 1,
   "metadata": {},
   "outputs": [
    {
     "name": "stdout",
     "output_type": "stream",
     "text": [
      "Collecting transformers\n",
      "  Downloading transformers-4.44.0-py3-none-any.whl.metadata (43 kB)\n",
      "Requirement already satisfied: filelock in c:\\users\\kush\\appdata\\local\\programs\\python\\python312\\lib\\site-packages (from transformers) (3.15.4)\n",
      "Collecting huggingface-hub<1.0,>=0.23.2 (from transformers)\n",
      "  Downloading huggingface_hub-0.24.5-py3-none-any.whl.metadata (13 kB)\n",
      "Requirement already satisfied: numpy>=1.17 in c:\\users\\kush\\appdata\\local\\programs\\python\\python312\\lib\\site-packages (from transformers) (1.26.4)\n",
      "Requirement already satisfied: packaging>=20.0 in c:\\users\\kush\\appdata\\roaming\\python\\python312\\site-packages (from transformers) (24.0)\n",
      "Requirement already satisfied: pyyaml>=5.1 in c:\\users\\kush\\appdata\\local\\programs\\python\\python312\\lib\\site-packages (from transformers) (6.0.1)\n",
      "Requirement already satisfied: regex!=2019.12.17 in c:\\users\\kush\\appdata\\local\\programs\\python\\python312\\lib\\site-packages (from transformers) (2024.5.15)\n",
      "Requirement already satisfied: requests in c:\\users\\kush\\appdata\\local\\programs\\python\\python312\\lib\\site-packages (from transformers) (2.32.3)\n",
      "Collecting safetensors>=0.4.1 (from transformers)\n",
      "  Downloading safetensors-0.4.4-cp312-none-win_amd64.whl.metadata (3.9 kB)\n",
      "Collecting tokenizers<0.20,>=0.19 (from transformers)\n",
      "  Downloading tokenizers-0.19.1-cp312-none-win_amd64.whl.metadata (6.9 kB)\n",
      "Requirement already satisfied: tqdm>=4.27 in c:\\users\\kush\\appdata\\local\\programs\\python\\python312\\lib\\site-packages (from transformers) (4.66.4)\n",
      "Requirement already satisfied: fsspec>=2023.5.0 in c:\\users\\kush\\appdata\\local\\programs\\python\\python312\\lib\\site-packages (from huggingface-hub<1.0,>=0.23.2->transformers) (2024.6.1)\n",
      "Requirement already satisfied: typing-extensions>=3.7.4.3 in c:\\users\\kush\\appdata\\local\\programs\\python\\python312\\lib\\site-packages (from huggingface-hub<1.0,>=0.23.2->transformers) (4.12.2)\n",
      "Requirement already satisfied: colorama in c:\\users\\kush\\appdata\\roaming\\python\\python312\\site-packages (from tqdm>=4.27->transformers) (0.4.6)\n",
      "Requirement already satisfied: charset-normalizer<4,>=2 in c:\\users\\kush\\appdata\\local\\programs\\python\\python312\\lib\\site-packages (from requests->transformers) (3.3.2)\n",
      "Requirement already satisfied: idna<4,>=2.5 in c:\\users\\kush\\appdata\\local\\programs\\python\\python312\\lib\\site-packages (from requests->transformers) (3.7)\n",
      "Requirement already satisfied: urllib3<3,>=1.21.1 in c:\\users\\kush\\appdata\\local\\programs\\python\\python312\\lib\\site-packages (from requests->transformers) (2.2.2)\n",
      "Requirement already satisfied: certifi>=2017.4.17 in c:\\users\\kush\\appdata\\local\\programs\\python\\python312\\lib\\site-packages (from requests->transformers) (2024.7.4)\n",
      "Downloading transformers-4.44.0-py3-none-any.whl (9.5 MB)\n",
      "   ---------------------------------------- 0.0/9.5 MB ? eta -:--:--\n",
      "   - -------------------------------------- 0.3/9.5 MB ? eta -:--:--\n",
      "   --- ------------------------------------ 0.8/9.5 MB 2.6 MB/s eta 0:00:04\n",
      "   ----- ---------------------------------- 1.3/9.5 MB 2.8 MB/s eta 0:00:03\n",
      "   ----- ---------------------------------- 1.3/9.5 MB 2.8 MB/s eta 0:00:03\n",
      "   ------ --------------------------------- 1.6/9.5 MB 1.6 MB/s eta 0:00:05\n",
      "   -------- ------------------------------- 2.1/9.5 MB 1.8 MB/s eta 0:00:05\n",
      "   ----------- ---------------------------- 2.6/9.5 MB 1.8 MB/s eta 0:00:04\n",
      "   ------------- -------------------------- 3.1/9.5 MB 1.9 MB/s eta 0:00:04\n",
      "   --------------- ------------------------ 3.7/9.5 MB 2.0 MB/s eta 0:00:03\n",
      "   ---------------- ----------------------- 3.9/9.5 MB 2.0 MB/s eta 0:00:03\n",
      "   ------------------ --------------------- 4.5/9.5 MB 2.1 MB/s eta 0:00:03\n",
      "   --------------------- ------------------ 5.0/9.5 MB 2.0 MB/s eta 0:00:03\n",
      "   ----------------------- ---------------- 5.5/9.5 MB 2.1 MB/s eta 0:00:02\n",
      "   ------------------------- -------------- 6.0/9.5 MB 2.1 MB/s eta 0:00:02\n",
      "   --------------------------- ------------ 6.6/9.5 MB 2.1 MB/s eta 0:00:02\n",
      "   ---------------------------- ----------- 6.8/9.5 MB 2.1 MB/s eta 0:00:02\n",
      "   ----------------------------- ---------- 7.1/9.5 MB 2.0 MB/s eta 0:00:02\n",
      "   ------------------------------- -------- 7.3/9.5 MB 2.0 MB/s eta 0:00:02\n",
      "   --------------------------------- ------ 7.9/9.5 MB 2.0 MB/s eta 0:00:01\n",
      "   ---------------------------------- ----- 8.1/9.5 MB 2.0 MB/s eta 0:00:01\n",
      "   ----------------------------------- ---- 8.4/9.5 MB 2.0 MB/s eta 0:00:01\n",
      "   ------------------------------------ --- 8.7/9.5 MB 2.0 MB/s eta 0:00:01\n",
      "   -------------------------------------- - 9.2/9.5 MB 1.9 MB/s eta 0:00:01\n",
      "   -------------------------------------- - 9.2/9.5 MB 1.9 MB/s eta 0:00:01\n",
      "   -------------------------------------- - 9.2/9.5 MB 1.9 MB/s eta 0:00:01\n",
      "   -------------------------------------- - 9.2/9.5 MB 1.9 MB/s eta 0:00:01\n",
      "   -------------------------------------- - 9.2/9.5 MB 1.9 MB/s eta 0:00:01\n",
      "   -------------------------------------- - 9.2/9.5 MB 1.9 MB/s eta 0:00:01\n",
      "   -------------------------------------- - 9.2/9.5 MB 1.9 MB/s eta 0:00:01\n",
      "   ---------------------------------------- 9.5/9.5 MB 1.5 MB/s eta 0:00:00\n",
      "Downloading huggingface_hub-0.24.5-py3-none-any.whl (417 kB)\n",
      "Downloading safetensors-0.4.4-cp312-none-win_amd64.whl (286 kB)\n",
      "Downloading tokenizers-0.19.1-cp312-none-win_amd64.whl (2.2 MB)\n",
      "   ---------------------------------------- 0.0/2.2 MB ? eta -:--:--\n",
      "   ---- ----------------------------------- 0.3/2.2 MB ? eta -:--:--\n",
      "   -------------- ------------------------- 0.8/2.2 MB 2.6 MB/s eta 0:00:01\n",
      "   ----------------------- ---------------- 1.3/2.2 MB 2.2 MB/s eta 0:00:01\n",
      "   ---------------------------- ----------- 1.6/2.2 MB 2.1 MB/s eta 0:00:01\n",
      "   ---------------------------- ----------- 1.6/2.2 MB 2.1 MB/s eta 0:00:01\n",
      "   --------------------------------- ------ 1.8/2.2 MB 1.5 MB/s eta 0:00:01\n",
      "   ---------------------------------------- 2.2/2.2 MB 1.6 MB/s eta 0:00:00\n",
      "Installing collected packages: safetensors, huggingface-hub, tokenizers, transformers\n",
      "Successfully installed huggingface-hub-0.24.5 safetensors-0.4.4 tokenizers-0.19.1 transformers-4.44.0\n",
      "Note: you may need to restart the kernel to use updated packages.\n"
     ]
    },
    {
     "name": "stderr",
     "output_type": "stream",
     "text": [
      "  WARNING: The script huggingface-cli.exe is installed in 'c:\\Users\\Kush\\AppData\\Local\\Programs\\Python\\Python312\\Scripts' which is not on PATH.\n",
      "  Consider adding this directory to PATH or, if you prefer to suppress this warning, use --no-warn-script-location.\n",
      "  WARNING: The script transformers-cli.exe is installed in 'c:\\Users\\Kush\\AppData\\Local\\Programs\\Python\\Python312\\Scripts' which is not on PATH.\n",
      "  Consider adding this directory to PATH or, if you prefer to suppress this warning, use --no-warn-script-location.\n"
     ]
    }
   ],
   "source": [
    "#pip install transformers"
   ]
  },
  {
   "cell_type": "code",
   "execution_count": 4,
   "metadata": {},
   "outputs": [
    {
     "name": "stdout",
     "output_type": "stream",
     "text": [
      "Bigram : [('Virat', 'kohli'), ('kohli', 'is'), ('is', 'the'), ('the', 'GOAT')]\n",
      "Trigram : [('Virat', 'kohli', 'is'), ('kohli', 'is', 'the'), ('is', 'the', 'GOAT')]\n",
      "4-gram : [('Virat', 'kohli', 'is', 'the'), ('kohli', 'is', 'the', 'GOAT')]\n"
     ]
    }
   ],
   "source": [
    "import nltk\n",
    "from nltk import ngrams\n",
    "\n",
    "text = \"Virat kohli is the GOAT\"\n",
    "\n",
    "tokens = nltk.word_tokenize(text)\n",
    "\n",
    "bigrams = list(ngrams(tokens , 2))\n",
    "print(\"Bigram :\",bigrams)\n",
    "\n",
    "trigrams = list(ngrams(tokens , 3))\n",
    "print(\"Trigram :\",trigrams)\n",
    "\n",
    "fourgrams = list(ngrams(tokens , 4))\n",
    "print(\"4-gram :\",fourgrams)"
   ]
  },
  {
   "cell_type": "code",
   "execution_count": null,
   "metadata": {},
   "outputs": [],
   "source": []
  },
  {
   "cell_type": "code",
   "execution_count": null,
   "metadata": {},
   "outputs": [],
   "source": []
  },
  {
   "cell_type": "code",
   "execution_count": 6,
   "metadata": {},
   "outputs": [
    {
     "name": "stdout",
     "output_type": "stream",
     "text": [
      "Original Text:\n",
      " Spider-Man is a superhero in American comic books published by Marvel Comics. Created by writer-editor Stan Lee and artist Steve Ditko, \n",
      "he first appeared in the anthology comic book Amazing Fantasy #15 (August 1962) in the Silver Age of Comic Books. He has been featured in comic\n",
      " books, television shows, films, video games, novels, and plays.\n",
      "Spider-Man's secret identity is Peter Benjamin Parker. Initially, Peter was depicted as a teenage high-school student and an orphan raised by his \n",
      "Aunt May and Uncle Ben in New York City after his parents, Richard and Mary Parker, died in a plane crash. Lee, Ditko, and later creators had the \n",
      "character deal with the struggles of adolescence and young adulthood and gave him many supporting characters, such as Flash Thompson, \n",
      "J. Jonah Jameson, and Harry Osborn; romantic interests Gwen Stacy, Mary Jane Watson, and the Black Cat; and enemies such as Doctor Octopus,\n",
      " the Green Goblin, and Venom. In his origin story, Spider-Man gets his superhuman spider powers and abilities after being bitten by a radioactive \n",
      " spider. These powers include superhuman strength, agility, reflexes, stamina, durability, coordination, and balance; clinging to surfaces and \n",
      " ceilings like a spider; and detecting danger with his precognition ability called \"spider-sense\". He builds wrist-mounted \"web-shooter\" devices\n",
      "   that shoot artificial spider-webs of his own design, which he uses both for fighting and web-swinging across the city. Peter Parker initially\n",
      "     used his powers for his personal gain, but after his Uncle Ben was killed by a thief that Peter could not stop, he began to use his powers to \n",
      "     fight crime by becoming Spider-Man.\n",
      "When Spider-Man first appeared in the early 1960s, teenagers in superhero comic books were usually relegated to the protagonist's sidekick role.\n",
      " The Spider-Man comic series broke ground by featuring Peter Parker, a high school student from the Queens borough of New York City, as \n",
      " Spider-Man's secret identity, whose \"self-obsessions with rejection, inadequacy, and loneliness\" were issues to which young readers could \n",
      " relate.[8] While Spider-Man was a quintessential sidekick, unlike previous teen heroes Bucky Barnes and Robin, Spider-Man had no superhero mentor\n",
      "   like Captain America and Batman; he had learned the lesson for himself that \"with great power comes great responsibility\" —a line included in a\n",
      "     text box in the final panel of the first Spider-Man's origin story, but later retroactively attributed to the late Uncle Ben Parker.\n",
      "\n",
      "Summary:\n",
      " Spider-Man is a superhero in American comic books published by Marvel Comics. Created by Stan Lee and Steve Ditko, he first appeared in the anthology comic book Amazing Fantasy #15 (August 1962) in the Silver Age of Comic Books. He has been featured in comic books, television shows, films, video games, novels, and plays.\n"
     ]
    }
   ],
   "source": [
    "from transformers import pipeline\n",
    "\n",
    "summarizer = pipeline(\"summarization\" , model='facebook/bart-large-con')\n",
    "\n",
    "text = \"\"\"Spider-Man is a superhero in American comic books published by Marvel Comics. Created by writer-editor Stan Lee and artist Steve Ditko, \n",
    "he first appeared in the anthology comic book Amazing Fantasy #15 (August 1962) in the Silver Age of Comic Books. He has been featured in comic\n",
    " books, television shows, films, video games, novels, and plays.\n",
    "Spider-Man's secret identity is Peter Benjamin Parker. Initially, Peter was depicted as a teenage high-school student and an orphan raised by his \n",
    "Aunt May and Uncle Ben in New York City after his parents, Richard and Mary Parker, died in a plane crash. Lee, Ditko, and later creators had the \n",
    "character deal with the struggles of adolescence and young adulthood and gave him many supporting characters, such as Flash Thompson, \n",
    "J. Jonah Jameson, and Harry Osborn; romantic interests Gwen Stacy, Mary Jane Watson, and the Black Cat; and enemies such as Doctor Octopus,\n",
    " the Green Goblin, and Venom. In his origin story, Spider-Man gets his superhuman spider powers and abilities after being bitten by a radioactive \n",
    " spider. These powers include superhuman strength, agility, reflexes, stamina, durability, coordination, and balance; clinging to surfaces and \n",
    " ceilings like a spider; and detecting danger with his precognition ability called \"spider-sense\". He builds wrist-mounted \"web-shooter\" devices\n",
    "   that shoot artificial spider-webs of his own design, which he uses both for fighting and web-swinging across the city. Peter Parker initially\n",
    "     used his powers for his personal gain, but after his Uncle Ben was killed by a thief that Peter could not stop, he began to use his powers to \n",
    "     fight crime by becoming Spider-Man.\n",
    "When Spider-Man first appeared in the early 1960s, teenagers in superhero comic books were usually relegated to the protagonist's sidekick role.\n",
    " The Spider-Man comic series broke ground by featuring Peter Parker, a high school student from the Queens borough of New York City, as \n",
    " Spider-Man's secret identity, whose \"self-obsessions with rejection, inadequacy, and loneliness\" were issues to which young readers could \n",
    " relate.[8] While Spider-Man was a quintessential sidekick, unlike previous teen heroes Bucky Barnes and Robin, Spider-Man had no superhero mentor\n",
    "   like Captain America and Batman; he had learned the lesson for himself that \"with great power comes great responsibility\" —a line included in a\n",
    "     text box in the final panel of the first Spider-Man's origin story, but later retroactively attributed to the late Uncle Ben Parker.\"\"\"\n",
    "\n",
    "summary = summarizer(text, max_length=100, min_length=30, do_sample=False)\n",
    "\n",
    "# Check if the summary list is not empty\n",
    "if summary:\n",
    "    print(\"Original Text:\\n\", text)\n",
    "    print('\\nSummary:\\n', summary[0]['summary_text'])\n",
    "else:\n",
    "    print(\"Summarizer did not return any summary.\")"
   ]
  },
  {
   "cell_type": "code",
   "execution_count": 2,
   "metadata": {},
   "outputs": [
    {
     "name": "stderr",
     "output_type": "stream",
     "text": [
      "c:\\Users\\Kush\\AppData\\Local\\Programs\\Python\\Python312\\Lib\\site-packages\\huggingface_hub\\file_download.py:159: UserWarning: `huggingface_hub` cache-system uses symlinks by default to efficiently store duplicated files but your machine does not support them in C:\\Users\\Kush\\.cache\\huggingface\\hub\\models--gpt2. Caching files will still work but in a degraded version that might require more space on your disk. This warning can be disabled by setting the `HF_HUB_DISABLE_SYMLINKS_WARNING` environment variable. For more details, see https://huggingface.co/docs/huggingface_hub/how-to-cache#limitations.\n",
      "To support symlinks on Windows, you either need to activate Developer Mode or to run Python as an administrator. In order to see activate developer mode, see this article: https://docs.microsoft.com/en-us/windows/apps/get-started/enable-your-device-for-development\n",
      "  warnings.warn(message)\n",
      "c:\\Users\\Kush\\AppData\\Local\\Programs\\Python\\Python312\\Lib\\site-packages\\transformers\\tokenization_utils_base.py:1601: FutureWarning: `clean_up_tokenization_spaces` was not set. It will be set to `True` by default. This behavior will be depracted in transformers v4.45, and will be then set to `False` by default. For more details check this issue: https://github.com/huggingface/transformers/issues/31884\n",
      "  warnings.warn(\n",
      "Truncation was not explicitly activated but `max_length` is provided a specific value, please use `truncation=True` to explicitly truncate examples to max length. Defaulting to 'longest_first' truncation strategy. If you encode pairs of sequences (GLUE-style) with the tokenizer you can select this strategy more precisely by providing a specific strategy to `truncation`.\n",
      "Setting `pad_token_id` to `eos_token_id`:50256 for open-end generation.\n"
     ]
    },
    {
     "name": "stdout",
     "output_type": "stream",
     "text": [
      "Generated Text : \n",
      " Artificial Intelligence is transforming the world by building new, interesting companies with new abilities, and by making AI as flexible as possible.\n",
      "\n",
      "In a recent interview I said that AI will not simply be replacing doctors, doctors, lawyers and engineers. I\n"
     ]
    }
   ],
   "source": [
    "from transformers import pipeline\n",
    "\n",
    "generator = pipeline(\"text-generation\" , model = \"gpt2\")\n",
    "\n",
    "prompt_text = \"Artificial Intelligence is transforming the world by\"\n",
    "\n",
    "generated_text = generator(prompt_text , max_length = 50 , num_return_sequences = 1)\n",
    "\n",
    "print(\"Generated Text : \\n\" , generated_text[0]['generated_text'])"
   ]
  },
  {
   "cell_type": "code",
   "execution_count": 6,
   "metadata": {},
   "outputs": [
    {
     "name": "stdout",
     "output_type": "stream",
     "text": [
      "Apple ORG\n",
      "U.K. GPE\n",
      "$1 billion MONEY\n",
      "John Doe PERSON\n",
      "Apple ORG\n",
      "Germany GPE\n",
      "Thursday DATE\n",
      "Superman GPE\n"
     ]
    }
   ],
   "source": [
    "import spacy \n",
    "\n",
    "nlp = spacy.load(\"en_core_web_sm\")\n",
    "\n",
    "text = \"Apple is looking at buying U.K. startup for $1 billion. John Doe , the CEO of Apple , is negotiating with Germany on Thursday to give them some money in return to Superman.\"\n",
    "\n",
    "doc = nlp(text)\n",
    "\n",
    "for ent in doc.ents:\n",
    "    print(ent.text , ent.label_)"
   ]
  },
  {
   "cell_type": "code",
   "execution_count": 7,
   "metadata": {},
   "outputs": [
    {
     "name": "stdout",
     "output_type": "stream",
     "text": [
      "Collecting deep_translator\n",
      "  Downloading deep_translator-1.11.4-py3-none-any.whl.metadata (30 kB)\n",
      "Requirement already satisfied: beautifulsoup4<5.0.0,>=4.9.1 in c:\\users\\kush\\appdata\\local\\programs\\python\\python312\\lib\\site-packages (from deep_translator) (4.12.3)\n",
      "Requirement already satisfied: requests<3.0.0,>=2.23.0 in c:\\users\\kush\\appdata\\local\\programs\\python\\python312\\lib\\site-packages (from deep_translator) (2.32.3)\n",
      "Requirement already satisfied: soupsieve>1.2 in c:\\users\\kush\\appdata\\local\\programs\\python\\python312\\lib\\site-packages (from beautifulsoup4<5.0.0,>=4.9.1->deep_translator) (2.5)\n",
      "Requirement already satisfied: charset-normalizer<4,>=2 in c:\\users\\kush\\appdata\\local\\programs\\python\\python312\\lib\\site-packages (from requests<3.0.0,>=2.23.0->deep_translator) (3.3.2)\n",
      "Requirement already satisfied: idna<4,>=2.5 in c:\\users\\kush\\appdata\\local\\programs\\python\\python312\\lib\\site-packages (from requests<3.0.0,>=2.23.0->deep_translator) (3.7)\n",
      "Requirement already satisfied: urllib3<3,>=1.21.1 in c:\\users\\kush\\appdata\\local\\programs\\python\\python312\\lib\\site-packages (from requests<3.0.0,>=2.23.0->deep_translator) (2.2.2)\n",
      "Requirement already satisfied: certifi>=2017.4.17 in c:\\users\\kush\\appdata\\local\\programs\\python\\python312\\lib\\site-packages (from requests<3.0.0,>=2.23.0->deep_translator) (2024.7.4)\n",
      "Downloading deep_translator-1.11.4-py3-none-any.whl (42 kB)\n",
      "Installing collected packages: deep_translator\n",
      "Successfully installed deep_translator-1.11.4\n",
      "Note: you may need to restart the kernel to use updated packages.\n"
     ]
    },
    {
     "name": "stderr",
     "output_type": "stream",
     "text": [
      "  WARNING: The scripts deep-translator.exe and dt.exe are installed in 'c:\\Users\\Kush\\AppData\\Local\\Programs\\Python\\Python312\\Scripts' which is not on PATH.\n",
      "  Consider adding this directory to PATH or, if you prefer to suppress this warning, use --no-warn-script-location.\n"
     ]
    }
   ],
   "source": [
    "#pip install deep_translator"
   ]
  },
  {
   "cell_type": "code",
   "execution_count": 27,
   "metadata": {},
   "outputs": [
    {
     "name": "stdout",
     "output_type": "stream",
     "text": [
      "Translated_text : नमस्कार, तुम्हाला भेटून आनंद झाला\n"
     ]
    }
   ],
   "source": [
    "from deep_translator import GoogleTranslator\n",
    "\n",
    "def translate(text , source_lang = 'en' , target_lang = 'fr'):\n",
    "    translated_text = GoogleTranslator(sorce = source_lang , target=target_lang).translate(text)\n",
    "    return translated_text\n",
    "\n",
    "text = \"Hello , Nice to meet you\"\n",
    "\n",
    "translated_text = translate(text , source_lang = 'en' , target_lang='mr')\n",
    "print(\"Translated_text :\",translated_text)"
   ]
  },
  {
   "cell_type": "code",
   "execution_count": null,
   "metadata": {},
   "outputs": [],
   "source": []
  }
 ],
 "metadata": {
  "kernelspec": {
   "display_name": "Python 3",
   "language": "python",
   "name": "python3"
  },
  "language_info": {
   "codemirror_mode": {
    "name": "ipython",
    "version": 3
   },
   "file_extension": ".py",
   "mimetype": "text/x-python",
   "name": "python",
   "nbconvert_exporter": "python",
   "pygments_lexer": "ipython3",
   "version": "3.12.4"
  }
 },
 "nbformat": 4,
 "nbformat_minor": 2
}
